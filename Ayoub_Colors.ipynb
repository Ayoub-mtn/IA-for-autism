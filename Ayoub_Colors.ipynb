{
  "cells": [
    {
      "cell_type": "code",
      "execution_count": 3,
      "metadata": {},
      "outputs": [
        {
          "name": "stdout",
          "output_type": "stream",
          "text": [
            "Collecting scikit-image\n",
            "  Downloading scikit_image-0.20.0-cp38-cp38-manylinux_2_17_x86_64.manylinux2014_x86_64.whl (13.4 MB)\n",
            "\u001b[K     |████████████████████████████████| 13.4 MB 7.8 MB/s eta 0:00:01\n",
            "\u001b[?25hRequirement already satisfied: scipy<1.9.2,>=1.8; python_version <= \"3.9\" in /home/salah/.local/lib/python3.8/site-packages (from scikit-image) (1.8.1)\n",
            "Collecting imageio>=2.4.1\n",
            "  Downloading imageio-2.26.0-py3-none-any.whl (3.4 MB)\n",
            "\u001b[K     |████████████████████████████████| 3.4 MB 7.8 MB/s eta 0:00:01\n",
            "\u001b[?25hRequirement already satisfied: pillow>=9.0.1 in /home/salah/.local/lib/python3.8/site-packages (from scikit-image) (9.1.1)\n",
            "Requirement already satisfied: numpy>=1.21.1 in /home/salah/.local/lib/python3.8/site-packages (from scikit-image) (1.22.4)\n",
            "Collecting tifffile>=2019.7.26\n",
            "  Downloading tifffile-2023.2.28-py3-none-any.whl (216 kB)\n",
            "\u001b[K     |████████████████████████████████| 216 kB 30.5 MB/s eta 0:00:01\n",
            "\u001b[?25hCollecting PyWavelets>=1.1.1\n",
            "  Downloading PyWavelets-1.4.1-cp38-cp38-manylinux_2_17_x86_64.manylinux2014_x86_64.whl (6.9 MB)\n",
            "\u001b[K     |████████████████████████████████| 6.9 MB 15.1 MB/s eta 0:00:01\n",
            "\u001b[?25hRequirement already satisfied: networkx>=2.8 in /home/salah/.local/lib/python3.8/site-packages (from scikit-image) (2.8.6)\n",
            "Collecting lazy_loader>=0.1\n",
            "  Downloading lazy_loader-0.1-py3-none-any.whl (8.6 kB)\n",
            "Requirement already satisfied: packaging>=20.0 in /home/salah/.local/lib/python3.8/site-packages (from scikit-image) (21.3)\n",
            "Requirement already satisfied: pyparsing!=3.0.5,>=2.0.2 in /home/salah/.local/lib/python3.8/site-packages (from packaging>=20.0->scikit-image) (3.0.9)\n",
            "Installing collected packages: imageio, tifffile, PyWavelets, lazy-loader, scikit-image\n",
            "Successfully installed PyWavelets-1.4.1 imageio-2.26.0 lazy-loader-0.1 scikit-image-0.20.0 tifffile-2023.2.28\n",
            "Note: you may need to restart the kernel to use updated packages.\n"
          ]
        }
      ],
      "source": [
        "pip install scikit-image"
      ]
    },
    {
      "cell_type": "code",
      "execution_count": 4,
      "metadata": {
        "id": "7FVwdgfW92pQ"
      },
      "outputs": [],
      "source": [
        "import pandas as pd\n",
        "import numpy as np \n",
        "import matplotlib.pyplot as plt \n",
        "import sklearn\n",
        "from sklearn.cluster import KMeans\n",
        "from collections import Counter\n",
        "from skimage.color import rgb2lab, deltaE_cie76\n",
        "import cv2\n",
        "plt.style.use('ggplot')\n",
        "plt.rcParams['font.family'] = 'sans-serif' \n",
        "plt.rcParams['font.serif'] = 'Ubuntu' \n",
        "plt.rcParams['font.monospace'] = 'Ubuntu Mono' \n",
        "plt.rcParams['font.size'] = 14 \n",
        "plt.rcParams['axes.labelsize'] = 12 \n",
        "plt.rcParams['axes.labelweight'] = 'bold' \n",
        "plt.rcParams['axes.titlesize'] = 12 \n",
        "plt.rcParams['xtick.labelsize'] = 12 \n",
        "plt.rcParams['ytick.labelsize'] = 12 \n",
        "plt.rcParams['legend.fontsize'] = 12 \n",
        "plt.rcParams['figure.titlesize'] = 12 \n",
        "plt.rcParams['image.cmap'] = 'jet' \n",
        "plt.rcParams['image.interpolation'] = 'none' \n",
        "plt.rcParams['figure.figsize'] = (10, 10\n",
        "                                 ) \n",
        "plt.rcParams['axes.grid']=False\n",
        "plt.rcParams['lines.linewidth'] = 2 \n",
        "plt.rcParams['lines.markersize'] = 8\n",
        "colors = ['xkcd:pale orange', 'xkcd:sea blue', 'xkcd:pale red', 'xkcd:sage green', 'xkcd:terra cotta', 'xkcd:dull purple', 'xkcd:teal', 'xkcd: goldenrod', 'xkcd:cadet blue',\n",
        "'xkcd:scarlet']"
      ]
    },
    {
      "cell_type": "code",
      "execution_count": 5,
      "metadata": {
        "id": "hKV9qlPI98Qb"
      },
      "outputs": [],
      "source": [
        "def get_image(image_path):\n",
        "    image = cv2.imread(image_path)\n",
        "    image = cv2.cvtColor(image, cv2.COLOR_BGR2RGB)\n",
        "    return image\n",
        "def RGB2HEX(color):\n",
        "    return \"#{:02x}{:02x}{:02x}\".format(int(color[0]), int(color[1]), int(color[2]))"
      ]
    },
    {
      "cell_type": "code",
      "execution_count": 8,
      "metadata": {
        "id": "j7jUvm2298Ns"
      },
      "outputs": [],
      "source": [
        "image = get_image('IMG_0399.jpg')\n",
        "number_of_colors = 10\n",
        "modified_image = image.reshape(image.shape[0]*image.shape[1], 3)\n",
        "clf = KMeans(n_clusters = number_of_colors)\n",
        "labels = clf.fit_predict(modified_image)"
      ]
    },
    {
      "cell_type": "code",
      "execution_count": 9,
      "metadata": {
        "id": "LqwKbD6_98Lc"
      },
      "outputs": [],
      "source": [
        "counts = Counter(labels)\n",
        "\n",
        "center_colors = clf.cluster_centers_\n",
        "# We get ordered colors by iterating through the keys\n",
        "ordered_colors = [center_colors[i] for i in counts.keys()]\n",
        "hex_colors = [RGB2HEX(ordered_colors[i]) for i in counts.keys()]\n",
        "rgb_colors = [ordered_colors[i] for i in counts.keys()]"
      ]
    },
    {
      "cell_type": "code",
      "execution_count": 10,
      "metadata": {
        "colab": {
          "base_uri": "https://localhost:8080/",
          "height": 937
        },
        "id": "zl0ww04X98I5",
        "outputId": "88b88f63-653a-4ed3-a7f9-2a7f1050deb6"
      },
      "outputs": [
        {
          "data": {
            "text/plain": [
              "([<matplotlib.patches.Wedge at 0x7fe6721852e0>,\n",
              "  <matplotlib.patches.Wedge at 0x7fe6721857c0>,\n",
              "  <matplotlib.patches.Wedge at 0x7fe672185b80>,\n",
              "  <matplotlib.patches.Wedge at 0x7fe6721980a0>,\n",
              "  <matplotlib.patches.Wedge at 0x7fe672198580>,\n",
              "  <matplotlib.patches.Wedge at 0x7fe672198a60>,\n",
              "  <matplotlib.patches.Wedge at 0x7fe672198f40>,\n",
              "  <matplotlib.patches.Wedge at 0x7fe672126460>,\n",
              "  <matplotlib.patches.Wedge at 0x7fe672126940>,\n",
              "  <matplotlib.patches.Wedge at 0x7fe672126e20>],\n",
              " [Text(-0.10330454653177557, 1.0951384253444238, '#fefefe'),\n",
              "  Text(-1.0755767651689794, -0.23050948403186056, '#02030b'),\n",
              "  Text(-0.9877348697998738, -0.48412790353523977, '#d49a8c'),\n",
              "  Text(-0.6774802490650362, -0.8666143964456029, '#be897b'),\n",
              "  Text(-0.1886905881868044, -1.0836954654928284, '#55413e'),\n",
              "  Text(0.2951900567567208, -1.0596522214349215, '#dbcbd2'),\n",
              "  Text(0.5815929592315744, -0.9336753342421874, '#262126'),\n",
              "  Text(0.7421974723408462, -0.8118761679288652, '#a4776c'),\n",
              "  Text(0.8644882518730239, -0.6801911954542806, '#edaca1'),\n",
              "  Text(1.0534230577394303, -0.3167015336604941, '#805f58')])"
            ]
          },
          "execution_count": 10,
          "metadata": {},
          "output_type": "execute_result"
        },
        {
          "data": {
            "image/png": "[encoded data removed]",
            "text/plain": [
              "<Figure size 432x288 with 1 Axes>"
            ]
          },
          "metadata": {},
          "output_type": "display_data"
        }
      ],
      "source": [
        "plt.title('Colors Detection ($n=10$)', fontsize=20)\n",
        "plt.pie(counts.values(), labels = hex_colors, colors = hex_colors)"
      ]
    },
    {
      "cell_type": "code",
      "execution_count": null,
      "metadata": {},
      "outputs": [],
      "source": []
    }
  ],
  "metadata": {
    "colab": {
      "provenance": []
    },
    "kernelspec": {
      "display_name": "Python 3",
      "language": "python",
      "name": "python3"
    },
    "language_info": {
      "codemirror_mode": {
        "name": "ipython",
        "version": 3
      },
      "file_extension": ".py",
      "mimetype": "text/x-python",
      "name": "python",
      "nbconvert_exporter": "python",
      "pygments_lexer": "ipython3",
      "version": "3.8.10"
    },
    "vscode": {
      "interpreter": {
        "hash": "916dbcbb3f70747c44a77c7bcd40155683ae19c65e1c03b4aa3499c5328201f1"
      }
    }
  },
  "nbformat": 4,
  "nbformat_minor": 0
}
